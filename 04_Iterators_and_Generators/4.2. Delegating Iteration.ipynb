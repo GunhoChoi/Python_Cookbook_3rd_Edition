{
 "cells": [
  {
   "cell_type": "markdown",
   "metadata": {},
   "source": [
    "# Iteration Example"
   ]
  },
  {
   "cell_type": "code",
   "execution_count": 1,
   "metadata": {},
   "outputs": [
    {
     "name": "stdout",
     "output_type": "stream",
     "text": [
      "Node(1)\n",
      "Node(2)\n"
     ]
    }
   ],
   "source": [
    "class Node:\n",
    "    def __init__(self, value):\n",
    "                self._value = value\n",
    "                self._children = []\n",
    "    def __repr__(self):\n",
    "        return 'Node({!r})'.format(self._value)\n",
    "    def add_child(self, node): \n",
    "        self._children.append(node)\n",
    "    def __iter__(self):\n",
    "        return iter(self._children)\n",
    "    \n",
    "# Example\n",
    "if __name__ == '__main__': \n",
    "    root = Node(0)\n",
    "    child1 = Node(1)\n",
    "    child2 = Node(2)\n",
    "    root.add_child(child1)\n",
    "    root.add_child(child2)\n",
    "    for ch in root:\n",
    "        print(ch)"
   ]
  },
  {
   "cell_type": "markdown",
   "metadata": {},
   "source": [
    "## How does \\__iter__ of list actually work?"
   ]
  },
  {
   "cell_type": "code",
   "execution_count": 2,
   "metadata": {},
   "outputs": [],
   "source": [
    "list = [1,2,3]\n",
    "it = iter(list)"
   ]
  },
  {
   "cell_type": "markdown",
   "metadata": {},
   "source": [
    "## CPython code from \n",
    "- https://github.com/python/cpython/blob/master/Objects/listobject.c"
   ]
  },
  {
   "cell_type": "markdown",
   "metadata": {},
   "source": [
    "### iter returns pointer of a PyObject"
   ]
  },
  {
   "cell_type": "raw",
   "metadata": {},
   "source": [
    "# static PyObject *\n",
    "list_iter(PyObject *seq)\n",
    "{\n",
    "    listiterobject *it;\n",
    "\n",
    "    if (!PyList_Check(seq)) {\n",
    "        PyErr_BadInternalCall();\n",
    "        return NULL;\n",
    "    }\n",
    "    it = PyObject_GC_New(listiterobject, &PyListIter_Type);\n",
    "    if (it == NULL)\n",
    "        return NULL;\n",
    "    it->it_index = 0;\n",
    "    Py_INCREF(seq);\n",
    "    it->it_seq = (PyListObject *)seq;\n",
    "    _PyObject_GC_TRACK(it);\n",
    "    return (PyObject *)it;\n",
    "}"
   ]
  },
  {
   "cell_type": "markdown",
   "metadata": {},
   "source": [
    "### next get current item and increment pointing address to next item"
   ]
  },
  {
   "cell_type": "raw",
   "metadata": {},
   "source": [
    "static PyObject *\n",
    "listiter_next(listiterobject *it)\n",
    "{\n",
    "    PyListObject *seq;\n",
    "    PyObject *item;\n",
    "\n",
    "    assert(it != NULL);\n",
    "    seq = it->it_seq;\n",
    "    if (seq == NULL)\n",
    "        return NULL;\n",
    "    assert(PyList_Check(seq));\n",
    "\n",
    "    if (it->it_index < PyList_GET_SIZE(seq)) {\n",
    "        item = PyList_GET_ITEM(seq, it->it_index);\n",
    "        ++it->it_index;\n",
    "        Py_INCREF(item);\n",
    "        return item;\n",
    "    }\n",
    "\n",
    "    it->it_seq = NULL;\n",
    "    Py_DECREF(seq);\n",
    "    return NULL;\n",
    "}"
   ]
  }
 ],
 "metadata": {
  "kernelspec": {
   "display_name": "Pytorch 3.0",
   "language": "python",
   "name": "3.0"
  },
  "language_info": {
   "codemirror_mode": {
    "name": "ipython",
    "version": 3
   },
   "file_extension": ".py",
   "mimetype": "text/x-python",
   "name": "python",
   "nbconvert_exporter": "python",
   "pygments_lexer": "ipython3",
   "version": "3.6.5"
  }
 },
 "nbformat": 4,
 "nbformat_minor": 2
}
