{
 "cells": [
  {
   "cell_type": "markdown",
   "metadata": {},
   "source": [
    "# [heapq.merge(*iterables)](https://docs.python.org/3.0/library/heapq.html)\n",
    "\n",
    "Merge multiple sorted inputs into a single sorted output (for example, merge timestamped entries from multiple log files). Returns an __iterator__ over the sorted values.\n",
    "\n",
    "Similar to sorted(itertools.chain(*iterables)) but __returns an iterable, does not pull the data into memory all at once__, and assumes that each of the input streams is already sorted (smallest to largest)."
   ]
  },
  {
   "cell_type": "code",
   "execution_count": 1,
   "metadata": {},
   "outputs": [
    {
     "name": "stdout",
     "output_type": "stream",
     "text": [
      "1\n",
      "5\n",
      "10\n",
      "100\n",
      "150\n",
      "190\n",
      "201\n",
      "401\n"
     ]
    }
   ],
   "source": [
    "import heapq\n",
    "a = [1,5,100,201]\n",
    "b = [10,150,190,401]\n",
    "for i in heapq.merge(a,b):\n",
    "    print(i)"
   ]
  }
 ],
 "metadata": {
  "kernelspec": {
   "display_name": "Pytorch 3.0",
   "language": "python",
   "name": "3.0"
  },
  "language_info": {
   "codemirror_mode": {
    "name": "ipython",
    "version": 3
   },
   "file_extension": ".py",
   "mimetype": "text/x-python",
   "name": "python",
   "nbconvert_exporter": "python",
   "pygments_lexer": "ipython3",
   "version": "3.6.5"
  }
 },
 "nbformat": 4,
 "nbformat_minor": 2
}
