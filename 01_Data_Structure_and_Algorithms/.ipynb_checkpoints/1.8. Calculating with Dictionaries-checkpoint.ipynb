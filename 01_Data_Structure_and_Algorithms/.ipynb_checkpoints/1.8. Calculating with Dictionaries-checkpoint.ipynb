{
 "cells": [
  {
   "cell_type": "markdown",
   "metadata": {},
   "source": [
    "# Zip function\n",
    "\n",
    "https://docs.python.org/3/library/functions.html#zip"
   ]
  },
  {
   "cell_type": "code",
   "execution_count": 1,
   "metadata": {
    "collapsed": true
   },
   "outputs": [],
   "source": [
    "def zip(*iterables):\n",
    "    # zip('ABCD', 'xy') --> Ax By\n",
    "    sentinel = object()\n",
    "    iterators = [iter(it) for it in iterables]\n",
    "    \n",
    "    print(len(iterators))\n",
    "    \n",
    "    print(iterables)\n",
    "    print(iterators)\n",
    "    \n",
    "    while iterators:\n",
    "        result = []\n",
    "        for it in iterators:\n",
    "            elem = next(it, sentinel)\n",
    "            if elem is sentinel:\n",
    "                print(\"the end\")\n",
    "                return\n",
    "            result.append(elem)\n",
    "        yield tuple(result)\n",
    "        "
   ]
  },
  {
   "cell_type": "code",
   "execution_count": 2,
   "metadata": {
    "collapsed": true
   },
   "outputs": [],
   "source": [
    "prices = {\n",
    "       'ACME': 45.23,\n",
    "       'AAPL': 612.78,\n",
    "       'IBM': 205.55,\n",
    "       'HPQ': 37.20,\n",
    "       'FB': 10.75\n",
    "}"
   ]
  },
  {
   "cell_type": "code",
   "execution_count": 3,
   "metadata": {},
   "outputs": [
    {
     "name": "stdout",
     "output_type": "stream",
     "text": [
      "dict_keys(['ACME', 'AAPL', 'IBM', 'HPQ', 'FB'])\n",
      "dict_values([45.23, 612.78, 205.55, 37.2, 10.75])\n"
     ]
    }
   ],
   "source": [
    "print(prices.keys())\n",
    "print(prices.values())"
   ]
  },
  {
   "cell_type": "code",
   "execution_count": 4,
   "metadata": {},
   "outputs": [
    {
     "name": "stdout",
     "output_type": "stream",
     "text": [
      "<generator object zip at 0x10f074db0> <generator object zip at 0x10f074830>\n"
     ]
    }
   ],
   "source": [
    "a = zip(prices.keys(),prices.values())\n",
    "b = zip(prices.values(),prices.keys())\n",
    "\n",
    "print(a,b)"
   ]
  },
  {
   "cell_type": "code",
   "execution_count": 5,
   "metadata": {},
   "outputs": [
    {
     "name": "stdout",
     "output_type": "stream",
     "text": [
      "2\n",
      "(dict_keys(['ACME', 'AAPL', 'IBM', 'HPQ', 'FB']), dict_values([45.23, 612.78, 205.55, 37.2, 10.75]))\n",
      "[<dict_keyiterator object at 0x10d1100e8>, <dict_valueiterator object at 0x10d110138>]\n",
      "('ACME', 45.23)\n",
      "('AAPL', 612.78)\n",
      "('IBM', 205.55)\n",
      "('HPQ', 37.2)\n",
      "('FB', 10.75)\n",
      "the end\n"
     ]
    }
   ],
   "source": [
    "for i in a:\n",
    "    print(i)\n",
    "    \n",
    "#print(min(a))"
   ]
  },
  {
   "cell_type": "code",
   "execution_count": 6,
   "metadata": {},
   "outputs": [
    {
     "name": "stdout",
     "output_type": "stream",
     "text": [
      "2\n",
      "(dict_values([45.23, 612.78, 205.55, 37.2, 10.75]), dict_keys(['ACME', 'AAPL', 'IBM', 'HPQ', 'FB']))\n",
      "[<dict_valueiterator object at 0x10d1103b8>, <dict_keyiterator object at 0x10d110408>]\n",
      "(45.23, 'ACME')\n",
      "(612.78, 'AAPL')\n",
      "(205.55, 'IBM')\n",
      "(37.2, 'HPQ')\n",
      "(10.75, 'FB')\n",
      "the end\n"
     ]
    }
   ],
   "source": [
    "for i in b:\n",
    "    print(i)\n",
    "    \n",
    "#print(min(b))"
   ]
  },
  {
   "cell_type": "code",
   "execution_count": null,
   "metadata": {
    "collapsed": true
   },
   "outputs": [],
   "source": []
  },
  {
   "cell_type": "code",
   "execution_count": null,
   "metadata": {
    "collapsed": true
   },
   "outputs": [],
   "source": []
  }
 ],
 "metadata": {
  "kernelspec": {
   "display_name": "Python 3",
   "language": "python",
   "name": "python3"
  },
  "language_info": {
   "codemirror_mode": {
    "name": "ipython",
    "version": 3
   },
   "file_extension": ".py",
   "mimetype": "text/x-python",
   "name": "python",
   "nbconvert_exporter": "python",
   "pygments_lexer": "ipython3",
   "version": "3.6.4"
  }
 },
 "nbformat": 4,
 "nbformat_minor": 2
}
